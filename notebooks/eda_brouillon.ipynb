{
 "cells": [
  {
   "cell_type": "code",
   "execution_count": 1,
   "id": "qualified-stake",
   "metadata": {},
   "outputs": [],
   "source": [
    "import geopandas as gpd"
   ]
  },
  {
   "cell_type": "code",
   "execution_count": 2,
   "id": "intended-yahoo",
   "metadata": {},
   "outputs": [],
   "source": [
    "neighbourhoods = gpd.read_file('../data/neighbourhoods.geojson')"
   ]
  },
  {
   "cell_type": "code",
   "execution_count": 3,
   "id": "aging-symphony",
   "metadata": {},
   "outputs": [],
   "source": [
    "import lux\n",
    "import numpy as np\n",
    "import pandas as pd\n",
    "from pandas_profiling import ProfileReport\n",
    "\n",
    "import json\n",
    "import re\n",
    "from PIL import Image\n",
    "from wordcloud import WordCloud, STOPWORDS, ImageColorGenerator\n",
    "\n",
    "import matplotlib.pyplot as plt\n",
    "import matplotlib as mpl\n",
    "import seaborn as sns\n",
    "\n",
    "import plotly.express as px\n",
    "import plotly.graph_objects as go\n",
    "\n",
    "from ipywidgets import interact, interactive, fixed, interact_manual\n",
    "import ipywidgets as widgets"
   ]
  },
  {
   "cell_type": "markdown",
   "id": "incorporated-literacy",
   "metadata": {},
   "source": [
    "### Configuring Matplotlib styles"
   ]
  },
  {
   "cell_type": "code",
   "execution_count": 4,
   "id": "bound-jaguar",
   "metadata": {},
   "outputs": [],
   "source": [
    "plt.style.use('seaborn')\n",
    "\n",
    "mpl.rcParams['figure.dpi'] = 200\n",
    "mpl.rcParams['figure.figsize'] = [15, 10]\n",
    "mpl.rcParams['axes.titlesize'] = 24\n",
    "mpl.rcParams['axes.labelsize'] = 20\n",
    "mpl.rcParams['lines.linewidth'] = 3\n",
    "mpl.rcParams['lines.markersize'] = 10\n",
    "mpl.rcParams['xtick.labelsize'] = 16\n",
    "mpl.rcParams['ytick.labelsize'] = 16"
   ]
  },
  {
   "cell_type": "markdown",
   "id": "harmful-migration",
   "metadata": {},
   "source": [
    "## Load listings data"
   ]
  },
  {
   "cell_type": "code",
   "execution_count": 5,
   "id": "beautiful-novelty",
   "metadata": {},
   "outputs": [],
   "source": [
    "listings = pd.read_csv('../data/listings-detailed.csv')"
   ]
  },
  {
   "cell_type": "code",
   "execution_count": 6,
   "id": "retained-masters",
   "metadata": {},
   "outputs": [
    {
     "data": {
      "text/plain": [
       "Index(['id', 'listing_url', 'scrape_id', 'last_scraped', 'name', 'description',\n",
       "       'neighborhood_overview', 'picture_url', 'host_id', 'host_url',\n",
       "       'host_name', 'host_since', 'host_location', 'host_about',\n",
       "       'host_response_time', 'host_response_rate', 'host_acceptance_rate',\n",
       "       'host_is_superhost', 'host_thumbnail_url', 'host_picture_url',\n",
       "       'host_neighbourhood', 'host_listings_count',\n",
       "       'host_total_listings_count', 'host_verifications',\n",
       "       'host_has_profile_pic', 'host_identity_verified', 'neighbourhood',\n",
       "       'neighbourhood_cleansed', 'neighbourhood_group_cleansed', 'latitude',\n",
       "       'longitude', 'property_type', 'room_type', 'accommodates', 'bathrooms',\n",
       "       'bathrooms_text', 'bedrooms', 'beds', 'amenities', 'price',\n",
       "       'minimum_nights', 'maximum_nights', 'minimum_minimum_nights',\n",
       "       'maximum_minimum_nights', 'minimum_maximum_nights',\n",
       "       'maximum_maximum_nights', 'minimum_nights_avg_ntm',\n",
       "       'maximum_nights_avg_ntm', 'calendar_updated', 'has_availability',\n",
       "       'availability_30', 'availability_60', 'availability_90',\n",
       "       'availability_365', 'calendar_last_scraped', 'number_of_reviews',\n",
       "       'number_of_reviews_ltm', 'number_of_reviews_l30d', 'first_review',\n",
       "       'last_review', 'review_scores_rating', 'review_scores_accuracy',\n",
       "       'review_scores_cleanliness', 'review_scores_checkin',\n",
       "       'review_scores_communication', 'review_scores_location',\n",
       "       'review_scores_value', 'license', 'instant_bookable',\n",
       "       'calculated_host_listings_count',\n",
       "       'calculated_host_listings_count_entire_homes',\n",
       "       'calculated_host_listings_count_private_rooms',\n",
       "       'calculated_host_listings_count_shared_rooms', 'reviews_per_month'],\n",
       "      dtype='object')"
      ]
     },
     "execution_count": 6,
     "metadata": {},
     "output_type": "execute_result"
    }
   ],
   "source": [
    "listings.columns"
   ]
  },
  {
   "cell_type": "code",
   "execution_count": 7,
   "id": "terminal-sarah",
   "metadata": {},
   "outputs": [],
   "source": [
    "# Convert dates and datetimes to pandas.DateTime\n",
    "listings['scrape_id'] = pd.to_datetime(listings['scrape_id'], format='%Y%m%d%H%M%S')\n",
    "listings['last_scraped'] = pd.to_datetime(listings['last_scraped'], format='%Y-%m-%d')\n",
    "listings['host_since'] = pd.to_datetime(listings['host_since'], format='%Y-%m-%d')\n",
    "listings['calendar_last_scraped'] = pd.to_datetime(listings['calendar_last_scraped'], format='%Y-%m-%d')\n",
    "listings['first_review'] = pd.to_datetime(listings['first_review'], format='%Y-%m-%d')\n",
    "listings['last_review'] = pd.to_datetime(listings['last_review'], format='%Y-%m-%d')"
   ]
  },
  {
   "cell_type": "code",
   "execution_count": 8,
   "id": "reserved-technology",
   "metadata": {},
   "outputs": [],
   "source": [
    "# Format price correctly\n",
    "listings['price'] = listings['price'].apply(lambda p: float(p[1:].replace(',','')))"
   ]
  },
  {
   "cell_type": "code",
   "execution_count": 18,
   "id": "embedded-syndicate",
   "metadata": {},
   "outputs": [
    {
     "data": {
      "text/html": [
       "<div>\n",
       "<style scoped>\n",
       "    .dataframe tbody tr th:only-of-type {\n",
       "        vertical-align: middle;\n",
       "    }\n",
       "\n",
       "    .dataframe tbody tr th {\n",
       "        vertical-align: top;\n",
       "    }\n",
       "\n",
       "    .dataframe thead th {\n",
       "        text-align: right;\n",
       "    }\n",
       "</style>\n",
       "<table border=\"1\" class=\"dataframe\">\n",
       "  <thead>\n",
       "    <tr style=\"text-align: right;\">\n",
       "      <th></th>\n",
       "      <th>neighbourhood</th>\n",
       "      <th>neighbourhood_group</th>\n",
       "      <th>geometry</th>\n",
       "    </tr>\n",
       "  </thead>\n",
       "  <tbody>\n",
       "    <tr>\n",
       "      <th>0</th>\n",
       "      <td>Treycovagnes</td>\n",
       "      <td>Jura-Nord vaudois</td>\n",
       "      <td>MULTIPOLYGON (((6.60774 46.76022, 6.60252 46.7...</td>\n",
       "    </tr>\n",
       "    <tr>\n",
       "      <th>1</th>\n",
       "      <td>Lausanne</td>\n",
       "      <td>Lausanne</td>\n",
       "      <td>MULTIPOLYGON (((6.64199 46.50532, 6.64187 46.5...</td>\n",
       "    </tr>\n",
       "    <tr>\n",
       "      <th>2</th>\n",
       "      <td>Villars-Epeney</td>\n",
       "      <td>Jura-Nord vaudois</td>\n",
       "      <td>MULTIPOLYGON (((6.70499 46.78969, 6.70488 46.7...</td>\n",
       "    </tr>\n",
       "    <tr>\n",
       "      <th>3</th>\n",
       "      <td>Vinzel</td>\n",
       "      <td>Nyon</td>\n",
       "      <td>MULTIPOLYGON (((6.28615 46.44040, 6.28305 46.4...</td>\n",
       "    </tr>\n",
       "    <tr>\n",
       "      <th>4</th>\n",
       "      <td>Denens</td>\n",
       "      <td>Morges</td>\n",
       "      <td>MULTIPOLYGON (((6.45446 46.50829, 6.45367 46.5...</td>\n",
       "    </tr>\n",
       "  </tbody>\n",
       "</table>\n",
       "</div>"
      ],
      "text/plain": [
       "    neighbourhood neighbourhood_group  \\\n",
       "0    Treycovagnes   Jura-Nord vaudois   \n",
       "1        Lausanne            Lausanne   \n",
       "2  Villars-Epeney   Jura-Nord vaudois   \n",
       "3          Vinzel                Nyon   \n",
       "4          Denens              Morges   \n",
       "\n",
       "                                            geometry  \n",
       "0  MULTIPOLYGON (((6.60774 46.76022, 6.60252 46.7...  \n",
       "1  MULTIPOLYGON (((6.64199 46.50532, 6.64187 46.5...  \n",
       "2  MULTIPOLYGON (((6.70499 46.78969, 6.70488 46.7...  \n",
       "3  MULTIPOLYGON (((6.28615 46.44040, 6.28305 46.4...  \n",
       "4  MULTIPOLYGON (((6.45446 46.50829, 6.45367 46.5...  "
      ]
     },
     "execution_count": 18,
     "metadata": {},
     "output_type": "execute_result"
    }
   ],
   "source": [
    "neighbourhoods.head()"
   ]
  },
  {
   "cell_type": "code",
   "execution_count": null,
   "id": "commercial-hours",
   "metadata": {},
   "outputs": [],
   "source": [
    "# profile = ProfileReport(listings, title=\"Listings\", explorative=True)"
   ]
  },
  {
   "cell_type": "code",
   "execution_count": null,
   "id": "scheduled-entertainment",
   "metadata": {},
   "outputs": [],
   "source": [
    "# profile"
   ]
  },
  {
   "cell_type": "code",
   "execution_count": null,
   "id": "absolute-solution",
   "metadata": {},
   "outputs": [],
   "source": [
    "# profile.to_file(\"listings-profile.html\")"
   ]
  },
  {
   "cell_type": "code",
   "execution_count": null,
   "id": "bulgarian-merchant",
   "metadata": {},
   "outputs": [],
   "source": [
    "fig, ax = plt.subplots()\n",
    "\n",
    "sns.scatterplot(data=listings[listings['number_of_reviews'] <= 1], x=\"beds\", y=\"price\", ax=ax)\n",
    "sns.scatterplot(data=listings[listings['number_of_reviews'] > 1], x=\"beds\", y=\"price\", ax=ax)\n",
    "\n",
    "ax.set(xlim=(0, 20), ylim=(0, 5000))\n",
    "\n",
    "plt.show()"
   ]
  },
  {
   "cell_type": "code",
   "execution_count": null,
   "id": "amber-surveillance",
   "metadata": {},
   "outputs": [],
   "source": [
    "@interact(text=listings.description)\n",
    "def wordcloudgenerator(text):\n",
    "    wc = WordCloud(background_color=\"white\").generate(text)\n",
    "\n",
    "    plt.imshow(wc, interpolation=\"bilinear\")\n",
    "    plt.axis('off')\n",
    "    plt.show()"
   ]
  },
  {
   "cell_type": "code",
   "execution_count": null,
   "id": "material-variety",
   "metadata": {},
   "outputs": [],
   "source": [
    "f, axes = plt.subplots(2, 3)\n",
    "\n",
    "cleanr = re.compile('<.*?>')\n",
    "\n",
    "wc1 = WordCloud(background_color=\"white\").generate(re.sub(cleanr, '', \" \".join(list(listings[listings.price < 50].description.apply(lambda x: str(x))))))\n",
    "wc2 = WordCloud(background_color=\"white\").generate(re.sub(cleanr, '', \" \".join(list(listings[(listings.price < 100) & (listings.price > 50)].description.apply(lambda x: str(x))))))\n",
    "wc3 = WordCloud(background_color=\"white\").generate(re.sub(cleanr, '', \" \".join(list(listings[(listings.price < 200) & (listings.price > 100)].description.apply(lambda x: str(x))))))\n",
    "wc4 = WordCloud(background_colszor=\"white\").generate(re.sub(cleanr, '', \" \".join(list(listings[(listings.price < 300) & (listings.price > 200)].description.apply(lambda x: str(x))))))\n",
    "wc5 = WordCloud(background_color=\"white\").generate(re.sub(cleanr, '', \" \".join(list(listings[(listings.price < 500) & (listings.price > 300)].description.apply(lambda x: str(x))))))\n",
    "wc6 = WordCloud(background_color=\"white\").generate(re.sub(cleanr, '', \" \".join(list(listings[listings.price > 500].description.apply(lambda x: str(x))))))\n",
    "\n",
    "plt.subplot(231), plt.imshow(wc1, interpolation=\"bilinear\"), plt.axis('off')\n",
    "plt.subplot(232), plt.imshow(wc2, interpolation=\"bilinear\"), plt.axis('off')\n",
    "plt.subplot(233), plt.imshow(wc3, interpolation=\"bilinear\"), plt.axis('off')\n",
    "plt.subplot(234), plt.imshow(wc4, interpolation=\"bilinear\"), plt.axis('off')\n",
    "plt.subplot(235), plt.imshow(wc5, interpolation=\"bilinear\"), plt.axis('off')\n",
    "plt.subplot(236), plt.imshow(wc6, interpolation=\"bilinear\"), plt.axis('off')\n",
    "\n",
    "plt.show()"
   ]
  },
  {
   "cell_type": "markdown",
   "id": "bored-opening",
   "metadata": {},
   "source": [
    "## Load reviews data"
   ]
  },
  {
   "cell_type": "code",
   "execution_count": null,
   "id": "suspended-cholesterol",
   "metadata": {},
   "outputs": [],
   "source": [
    "reviews = pd.read_csv('../data/reviews-detailed.csv')"
   ]
  },
  {
   "cell_type": "code",
   "execution_count": null,
   "id": "confident-criticism",
   "metadata": {},
   "outputs": [],
   "source": [
    "reviews['date'] = pd.to_datetime(reviews['date'], format='%Y-%m-%d')"
   ]
  },
  {
   "cell_type": "code",
   "execution_count": null,
   "id": "dirty-saint",
   "metadata": {},
   "outputs": [],
   "source": [
    "reviews"
   ]
  },
  {
   "cell_type": "markdown",
   "id": "union-grade",
   "metadata": {},
   "source": [
    "## Load calendar data\n"
   ]
  },
  {
   "cell_type": "code",
   "execution_count": null,
   "id": "legal-pharmacology",
   "metadata": {},
   "outputs": [],
   "source": [
    "calendar = pd.read_csv('../data/calendar.csv')"
   ]
  },
  {
   "cell_type": "code",
   "execution_count": null,
   "id": "athletic-flavor",
   "metadata": {},
   "outputs": [],
   "source": [
    "calendar['date'] = pd.to_datetime(calendar['date'], format='%Y-%m-%d')"
   ]
  },
  {
   "cell_type": "code",
   "execution_count": null,
   "id": "innocent-german",
   "metadata": {},
   "outputs": [],
   "source": [
    "calendar"
   ]
  },
  {
   "cell_type": "markdown",
   "id": "regular-restaurant",
   "metadata": {},
   "source": [
    "## Load neighbourhood data"
   ]
  },
  {
   "cell_type": "code",
   "execution_count": null,
   "id": "hairy-bosnia",
   "metadata": {},
   "outputs": [],
   "source": [
    "neighbourhoods = pd.read_csv('../data/neighbourhoods.csv')"
   ]
  },
  {
   "cell_type": "code",
   "execution_count": null,
   "id": "gothic-bicycle",
   "metadata": {},
   "outputs": [],
   "source": [
    "neighbourhoods['neighbourhood_group'].value_counts()"
   ]
  },
  {
   "cell_type": "code",
   "execution_count": null,
   "id": "possible-baker",
   "metadata": {},
   "outputs": [],
   "source": []
  }
 ],
 "metadata": {
  "kernelspec": {
   "display_name": "Datascience",
   "language": "python",
   "name": "datascience"
  },
  "language_info": {
   "codemirror_mode": {
    "name": "ipython",
    "version": 3
   },
   "file_extension": ".py",
   "mimetype": "text/x-python",
   "name": "python",
   "nbconvert_exporter": "python",
   "pygments_lexer": "ipython3",
   "version": "3.8.5"
  }
 },
 "nbformat": 4,
 "nbformat_minor": 5
}
