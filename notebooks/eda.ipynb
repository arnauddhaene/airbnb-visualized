{
 "cells": [
  {
   "cell_type": "code",
   "execution_count": null,
   "id": "fifty-proposal",
   "metadata": {},
   "outputs": [],
   "source": [
    "# to enable autocomplete\n",
    "%config Completer.use_jedi = False"
   ]
  },
  {
   "cell_type": "markdown",
   "id": "happy-nowhere",
   "metadata": {
    "id": "TaQFCfhxjTk3"
   },
   "source": [
    "**Reminder: TODO every time you want to  commit changes**\n",
    "\n",
    "Go to `Edit > Clear all outputs` to clear all Notebook outputs before committing changes to the repository.\n",
    "\n",
    "# Import necessary libraries"
   ]
  },
  {
   "cell_type": "code",
   "execution_count": null,
   "id": "changed-attempt",
   "metadata": {
    "id": "deluxe-right"
   },
   "outputs": [],
   "source": [
    "import numpy as np\n",
    "import pandas as pd"
   ]
  },
  {
   "cell_type": "code",
   "execution_count": null,
   "id": "unauthorized-harassment",
   "metadata": {
    "id": "natural-walker"
   },
   "outputs": [],
   "source": [
    "import re\n",
    "import math\n",
    "import json\n",
    "import datetime"
   ]
  },
  {
   "cell_type": "code",
   "execution_count": null,
   "id": "actual-schedule",
   "metadata": {
    "id": "divine-accreditation"
   },
   "outputs": [],
   "source": [
    "import matplotlib.pyplot as plt\n",
    "import matplotlib as mpl\n",
    "import seaborn as sns"
   ]
  },
  {
   "cell_type": "code",
   "execution_count": null,
   "id": "empirical-pride",
   "metadata": {
    "id": "trained-reflection"
   },
   "outputs": [],
   "source": [
    "%matplotlib inline\n",
    "\n",
    "plt.style.use('seaborn')\n",
    "\n",
    "mpl.rcParams['figure.dpi'] = 100\n",
    "mpl.rcParams['figure.figsize'] = [9.66, 6]\n",
    "mpl.rcParams['figure.titlesize'] = 24\n",
    "mpl.rcParams['axes.titlesize'] = 20\n",
    "mpl.rcParams['axes.labelsize'] = 18\n",
    "mpl.rcParams['lines.linewidth'] = 2\n",
    "mpl.rcParams['lines.markersize'] = 2\n",
    "mpl.rcParams['xtick.labelsize'] = 16\n",
    "mpl.rcParams['ytick.labelsize'] = 16"
   ]
  },
  {
   "cell_type": "markdown",
   "id": "czech-mailman",
   "metadata": {
    "id": "yIW1KFCnjbmL"
   },
   "source": [
    "# Listings\n",
    "\n",
    "EDA for the `listings` data."
   ]
  },
  {
   "cell_type": "markdown",
   "id": "fitted-affair",
   "metadata": {
    "id": "scenic-shelter"
   },
   "source": [
    "## Loading the data"
   ]
  },
  {
   "cell_type": "code",
   "execution_count": null,
   "id": "recreational-series",
   "metadata": {
    "id": "single-party"
   },
   "outputs": [],
   "source": [
    "# Alternatively, if you are not running the Notebook in Google Colab\n",
    "\n",
    "# from google.colab import drive \n",
    "# drive.mount('/content/drive/')\n",
    "# listings = pd.read_csv('drive/MyDrive/com-480-cam/data/vaud/listings-detailed.csv')\n",
    "\n",
    "geneva = pd.read_csv('../data/geneva/listings-detailed.csv')\n",
    "geneva['city'] = 'Geneva'\n",
    "\n",
    "vaud = pd.read_csv('../data/vaud/listings-detailed.csv')\n",
    "vaud['city'] = 'Vaud'\n",
    "\n",
    "zurich = pd.read_csv('../data/zurich/listings-detailed.csv')\n",
    "zurich['city'] = 'Zurich'\n",
    "\n",
    "listings = pd.concat([geneva, vaud, zurich])\n",
    "\n",
    "print(f'Concatenated pd.DataFrame of shape: {listings.shape}')"
   ]
  },
  {
   "cell_type": "markdown",
   "id": "confidential-crash",
   "metadata": {
    "id": "median-kingdom"
   },
   "source": [
    "### Some routine formatting"
   ]
  },
  {
   "cell_type": "code",
   "execution_count": null,
   "id": "associate-furniture",
   "metadata": {
    "id": "disturbed-directive"
   },
   "outputs": [],
   "source": [
    "# Convert dates and datetimes to pandas.DateTime\n",
    "def format_dates(df: pd.DataFrame, feature: str, format: str = '%Y-%m-%d'):\n",
    "    df[feature] = pd.to_datetime(df[feature], format=format)\n",
    "    \n",
    "# Format price by removing commas and dollar sign\n",
    "def format_price(price: str):\n",
    "    return float(price[1:].replace(',', ''))\n",
    "\n",
    "# Classify property type\n",
    "def find_type(property_type: str):\n",
    "    \n",
    "    if 'entire' in property_type.lower():\n",
    "        return 'place'\n",
    "    \n",
    "    if 'room' in property_type.lower():\n",
    "        return 'room'\n",
    "    \n",
    "    return 'other'\n",
    "\n",
    "# Time since date\n",
    "def days_since(d: pd.Timestamp) -> float:\n",
    "\n",
    "    today = datetime.datetime.now()\n",
    "    d = d.to_pydatetime()\n",
    "\n",
    "    return (today - d).days"
   ]
  },
  {
   "cell_type": "code",
   "execution_count": null,
   "id": "neither-delay",
   "metadata": {
    "id": "aggressive-logistics"
   },
   "outputs": [],
   "source": [
    "dated_features = ['last_scraped', 'host_since', 'calendar_last_scraped', \n",
    "                  'first_review', 'last_review']\n",
    "\n",
    "timestamped_features = ['scrape_id']\n",
    "\n",
    "for feature in dated_features:\n",
    "    format_dates(listings, feature)\n",
    "    \n",
    "for feature in timestamped_features:\n",
    "    format_dates(listings, feature, format='%Y%m%d%H%M%S')\n",
    "    \n",
    "listings['price'] = listings.price.apply(format_price)\n",
    "listings['amenities_count'] = listings.amenities.apply(lambda a: len(a))\n",
    "listings['type'] = listings.property_type.apply(find_type)\n",
    "listings['days_host'] = listings.host_since.apply(days_since)\n",
    "listings['days_host'] = listings.days_host.apply(lambda d: 0 if math.isnan(d) else int(d))"
   ]
  },
  {
   "cell_type": "markdown",
   "id": "dense-playlist",
   "metadata": {
    "id": "eC7g1_87kgK8"
   },
   "source": [
    "## Visualizations"
   ]
  },
  {
   "cell_type": "markdown",
   "id": "interim-utilization",
   "metadata": {},
   "source": [
    "### Where are the listings situated?"
   ]
  },
  {
   "cell_type": "code",
   "execution_count": null,
   "id": "orange-ferry",
   "metadata": {},
   "outputs": [],
   "source": [
    "import geopandas as gpd"
   ]
  },
  {
   "cell_type": "code",
   "execution_count": null,
   "id": "hawaiian-summit",
   "metadata": {},
   "outputs": [],
   "source": [
    "nei_geneva = gpd.read_file('../data/geneva/neighbourhoods.geojson')\n",
    "nei_geneva['city'] = 'Geneva'\n",
    "\n",
    "nei_vaud = gpd.read_file('../data/vaud/neighbourhoods.geojson')\n",
    "nei_vaud['city'] = 'Vaud'\n",
    "\n",
    "nei_zurich = gpd.read_file('../data/zurich/neighbourhoods.geojson')\n",
    "nei_zurich['city'] = 'Zurich'\n",
    "\n",
    "def join_listings(gdf: gpd.GeoDataFrame, df: pd.DataFrame, city: str) -> gpd.GeoDataFrame:\n",
    "    # Extract listing number per neighbourhood\n",
    "    nei = pd.DataFrame(df[df['city'] == city].neighbourhood_cleansed.value_counts())\n",
    "    nei['listings'] = nei['neighbourhood_cleansed']\n",
    "    nei.pop('neighbourhood_cleansed')\n",
    "\n",
    "    # Join GEOJSON with listings\n",
    "    gdf = gdf.set_index('neighbourhood').join(nei, on='neighbourhood')\n",
    "    gdf.reset_index(inplace=True)\n",
    "    \n",
    "    return gdf"
   ]
  },
  {
   "cell_type": "code",
   "execution_count": null,
   "id": "metropolitan-village",
   "metadata": {},
   "outputs": [],
   "source": [
    "fig, ax = plt.subplots(1, 3)\n",
    "\n",
    "for i, nnn in enumerate([nei_geneva, nei_vaud, nei_zurich]):\n",
    "    \n",
    "    city = nnn.loc[0].city\n",
    "    \n",
    "    join_listings(nnn, listings, city).plot(column='listings', cmap='Reds', ax=ax[i])\n",
    "    ax[i].set_title(city)\n",
    "    ax[i].axis('off')\n",
    "    \n",
    "plt.show()"
   ]
  },
  {
   "cell_type": "markdown",
   "id": "authorized-gregory",
   "metadata": {
    "id": "aquatic-rubber"
   },
   "source": [
    "### Pair plot of some variables of interest"
   ]
  },
  {
   "cell_type": "code",
   "execution_count": null,
   "id": "dated-pregnancy",
   "metadata": {
    "id": "intermediate-grain"
   },
   "outputs": [],
   "source": [
    "g = sns.pairplot(data=listings, vars=['price', 'beds', 'amenities_count', 'days_host', 'review_scores_rating'], hue=\"city\")\n",
    "\n",
    "g.fig.subplots_adjust(top=0.95)\n",
    "g.fig.suptitle('Pairwise relationships between numerical variables')\n",
    "\n",
    "plt.show()"
   ]
  },
  {
   "cell_type": "markdown",
   "id": "published-black",
   "metadata": {
    "id": "combined-winter"
   },
   "source": [
    "### What's the most common property type?"
   ]
  },
  {
   "cell_type": "code",
   "execution_count": null,
   "id": "fifth-walker",
   "metadata": {
    "id": "integrated-collins"
   },
   "outputs": [],
   "source": [
    "fig, ax = plt.subplots(1, 3, sharey=True)\n",
    "\n",
    "sns.histplot(data=listings[listings['city'] == 'Geneva'], x=\"city\", hue=\"type\", multiple=\"dodge\", stat=\"probability\", ax=ax[0])\n",
    "sns.histplot(data=listings[listings['city'] == 'Vaud'], x=\"city\", hue=\"type\", multiple=\"dodge\", stat=\"probability\", ax=ax[1])\n",
    "sns.histplot(data=listings[listings['city'] == 'Zurich'], x=\"city\", hue=\"type\", multiple=\"dodge\", stat=\"probability\", ax=ax[2])\n",
    "\n",
    "ax[0].get_legend().remove()\n",
    "ax[1].get_legend().remove()\n",
    "\n",
    "fig.suptitle('Property types frequency in Swiss listings')\n",
    "\n",
    "plt.show()"
   ]
  },
  {
   "cell_type": "markdown",
   "id": "latter-trail",
   "metadata": {
    "id": "adaptive-sender"
   },
   "source": [
    "### How does price distribution vary between entire places and private rooms?"
   ]
  },
  {
   "cell_type": "code",
   "execution_count": null,
   "id": "tender-david",
   "metadata": {
    "id": "exposed-shame"
   },
   "outputs": [],
   "source": [
    "fig, ax = plt.subplots(1, 3, sharey=True)\n",
    "\n",
    "sns.kdeplot(data=listings[(listings['city'] == 'Geneva') & (listings.price < 600) & (listings.beds < 10) & (listings.type.isin(['place', 'room']))],\n",
    "            x=\"price\", y=\"beds\", hue=\"type\", fill=False, common_norm=False, ax=ax[0])\n",
    "ax[0].set_title('Geneva')\n",
    "\n",
    "sns.kdeplot(data=listings[(listings['city'] == 'Vaud') & (listings.price < 600) & (listings.beds < 10) & (listings.type.isin(['place', 'room']))],\n",
    "            x=\"price\", y=\"beds\", hue=\"type\", fill=False, common_norm=False, ax=ax[1])\n",
    "ax[1].set_title('Vaud')\n",
    "\n",
    "sns.kdeplot(data=listings[(listings['city'] == 'Zurich') & (listings.price < 600) & (listings.beds < 10) & (listings.type.isin(['place', 'room']))],\n",
    "            x=\"price\", y=\"beds\", hue=\"type\", fill=False, common_norm=False, ax=ax[2])\n",
    "ax[2].set_title('Zurich')\n",
    "\n",
    "ax[0].get_legend().remove()\n",
    "ax[1].get_legend().remove()\n",
    "\n",
    "plt.show()"
   ]
  },
  {
   "cell_type": "markdown",
   "id": "comfortable-equivalent",
   "metadata": {},
   "source": [
    "### What do the distributions of the different review categories look like?"
   ]
  },
  {
   "cell_type": "code",
   "execution_count": null,
   "id": "honey-distance",
   "metadata": {
    "id": "promising-ecology"
   },
   "outputs": [],
   "source": [
    "f, a = plt.subplots(2, 3, sharey=True, sharex=True)\n",
    "\n",
    "reviews = ['review_scores_value', 'review_scores_accuracy', 'review_scores_cleanliness', \n",
    "           'review_scores_checkin', 'review_scores_communication', 'review_scores_location']\n",
    "    \n",
    "sns.violinplot(data=listings, y='review_scores_value',         x='city', ax=a[0, 0])\n",
    "sns.violinplot(data=listings, y='review_scores_accuracy',      x='city', ax=a[0, 1])\n",
    "sns.violinplot(data=listings, y='review_scores_cleanliness',   x='city', ax=a[0, 2])\n",
    "sns.violinplot(data=listings, y='review_scores_checkin',       x='city', ax=a[1, 0])\n",
    "sns.violinplot(data=listings, y='review_scores_communication', x='city', ax=a[1, 1])\n",
    "sns.violinplot(data=listings, y='review_scores_location',      x='city', ax=a[1, 2])\n",
    "\n",
    "a[0, 0].set_ylabel('value')        , a[0, 0].set_xlabel('') #, a[0, 0].set_ylim(6, 11)\n",
    "a[0, 1].set_ylabel('accuracy')     , a[0, 1].set_xlabel('') #, a[0, 1].set_ylim(6, 11)   \n",
    "a[0, 2].set_ylabel('cleanliness')  , a[0, 2].set_xlabel('') #, a[0, 2].set_ylim(6, 11)      \n",
    "a[1, 0].set_ylabel('checkin')      , a[1, 0].set_xlabel('') #, a[1, 0].set_ylim(6, 11)\n",
    "a[1, 1].set_ylabel('communication'), a[1, 1].set_xlabel('') #, a[1, 1].set_ylim(6, 11)\n",
    "a[1, 2].set_ylabel('location')     , a[1, 2].set_xlabel('') #, a[1, 2].set_ylim(6, 11)\n",
    "\n",
    "f.suptitle('Review category distributions')\n",
    "\n",
    "plt.tight_layout()\n",
    "plt.show()"
   ]
  },
  {
   "cell_type": "markdown",
   "id": "beautiful-barcelona",
   "metadata": {},
   "source": [
    "### WordCloud of listing description per city"
   ]
  },
  {
   "cell_type": "code",
   "execution_count": null,
   "id": "published-eleven",
   "metadata": {},
   "outputs": [],
   "source": [
    "from wordcloud import WordCloud\n",
    "\n",
    "def clean_text(descriptions: pd.Series) -> str:\n",
    "    \n",
    "    descriptions = ' '.join(listings.description.apply(lambda d: str(d)))\n",
    "    descriptions = descriptions.lower()\n",
    "    descriptions = re.sub('<.*?>|&([a-z0-9]+|#[0-9]{1,6}|#x[0-9a-f]{1,6});', '', descriptions)\n",
    "    descriptions = re.sub(r'[^\\w\\s]', '', descriptions)\n",
    "    \n",
    "    return descriptions\n",
    "\n",
    "fig, ax = plt.subplots(1, 3)\n",
    "\n",
    "for i, city in enumerate(['Geneva', 'Vaud', 'Zurich']):\n",
    "    \n",
    "    text = clean_text(listings[listings['city'] == city].description)\n",
    "    wc = WordCloud(background_color='white').generate(text)\n",
    "    \n",
    "    ax[i].imshow(wc, interpolation='bilinear')\n",
    "    ax[i].set_title(city)\n",
    "    ax[i].axis('off')\n",
    "\n",
    "plt.show()"
   ]
  },
  {
   "cell_type": "markdown",
   "id": "necessary-envelope",
   "metadata": {},
   "source": [
    "### Parse the amenities into a plottable format"
   ]
  },
  {
   "cell_type": "code",
   "execution_count": null,
   "id": "designed-strip",
   "metadata": {},
   "outputs": [],
   "source": [
    "import ast\n",
    "\n",
    "max_amenities_index = listings.amenities.apply(lambda a: len(a)).argmax()\n",
    "\n",
    "all_amenities = listings.amenities.iloc[max_amenities_index]\n",
    "all_amenities = ast.literal_eval(all_amenities)"
   ]
  },
  {
   "cell_type": "markdown",
   "id": "headed-momentum",
   "metadata": {},
   "source": [
    "This takes quite a while"
   ]
  },
  {
   "cell_type": "code",
   "execution_count": null,
   "id": "framed-loading",
   "metadata": {},
   "outputs": [],
   "source": [
    "for amenity in all_amenities:\n",
    "    \n",
    "    listings[amenity] = listings.amenities.apply(lambda ams: amenity in ast.literal_eval(ams))"
   ]
  },
  {
   "cell_type": "code",
   "execution_count": null,
   "id": "empirical-commerce",
   "metadata": {},
   "outputs": [],
   "source": [
    "def top_amenities(df: pd.DataFrame) -> pd.DataFrame:\n",
    "\n",
    "    amenities = pd.DataFrame({ amenity: df[amenity].value_counts() for amenity in df[all_amenities].columns }).T\n",
    "    amenities['amenity'] = amenities.index\n",
    "    amenities['probability'] = amenities[True]\n",
    "    amenities['probability'] = amenities.probability.apply(lambda p: p / len(df))\n",
    "    amenities.pop(False)\n",
    "    amenities.pop(True)\n",
    "\n",
    "    amenities.sort_values(by='probability', ascending=False, inplace=True)\n",
    "    \n",
    "    return amenities\n",
    "\n",
    "fig, ax = plt.subplots(3, 1, sharex=True)\n",
    "\n",
    "for i, t in enumerate(['room', 'place', 'other']):\n",
    "\n",
    "    sns.barplot(data=top_amenities(listings[listings['type'] == t]).iloc[:5], x='probability', y='amenity', ax=ax[i])\n",
    "    \n",
    "    ax[i].set_title(t)\n",
    "    ax[i].set_xlabel('')\n",
    "    ax[i].set_ylabel('')\n",
    "    \n",
    "fig.suptitle('Top 5 amenities per property type')\n",
    "\n",
    "plt.tight_layout()\n",
    "plt.show()"
   ]
  },
  {
   "cell_type": "markdown",
   "id": "vietnamese-victoria",
   "metadata": {
    "id": "BykrnWozjhWY"
   },
   "source": [
    "# Reviews"
   ]
  },
  {
   "cell_type": "code",
   "execution_count": null,
   "id": "arabic-tuning",
   "metadata": {},
   "outputs": [],
   "source": [
    "reviews = pd.read_csv('../data/vaud/reviews.csv')"
   ]
  },
  {
   "cell_type": "code",
   "execution_count": null,
   "id": "greatest-factory",
   "metadata": {},
   "outputs": [],
   "source": [
    "reviews['date'] = pd.to_datetime(reviews['date'], format='%Y-%m-%d')"
   ]
  },
  {
   "cell_type": "code",
   "execution_count": null,
   "id": "boxed-acceptance",
   "metadata": {},
   "outputs": [],
   "source": [
    "reviews.sample(10)"
   ]
  },
  {
   "cell_type": "code",
   "execution_count": null,
   "id": "swedish-cycle",
   "metadata": {},
   "outputs": [],
   "source": [
    "def find_top_reviews(n=10, data=reviews):\n",
    "    \"\"\"return list of n ids containing the most amount of reviews\"\"\"\n",
    "    return data.listing_id.value_counts()[0:n].index.tolist()"
   ]
  },
  {
   "cell_type": "code",
   "execution_count": null,
   "id": "italic-color",
   "metadata": {},
   "outputs": [],
   "source": [
    "def plot_timeperiod_reviews(start_date=\"2018-01\", end_date=\"2021-01\", n=1 , data=reviews):\n",
    "    \"\"\"plot the n average count reviews over the timeperiod\"\"\"\n",
    "    data = data.set_index('date')\n",
    "    data_to_plot = data[data['listing_id'].isin(find_top_reviews(n))].groupby(pd.Grouper(freq='M')).count()\n",
    "    data_to_plot = data_to_plot.fillna(0)\n",
    "    \n",
    "    \n",
    "    title_ = \"Number of Reviews for the top %s Listings\" %n\n",
    "    data_to_plot[start_date:end_date].plot(title=title_, ylabel=\"number of reviews\")"
   ]
  },
  {
   "cell_type": "markdown",
   "id": "controlled-irish",
   "metadata": {},
   "source": [
    "### How does the general trend of Reviews compare over a period of time?"
   ]
  },
  {
   "cell_type": "code",
   "execution_count": null,
   "id": "administrative-reminder",
   "metadata": {},
   "outputs": [],
   "source": [
    "plot_timeperiod_reviews(start_date=\"2015-01\", end_date='2021-01', n=40)"
   ]
  },
  {
   "cell_type": "code",
   "execution_count": null,
   "id": "exempt-house",
   "metadata": {},
   "outputs": [],
   "source": [
    "plot_timeperiod_reviews(start_date=\"2017-01\", end_date='2020-01', n=30)"
   ]
  },
  {
   "cell_type": "markdown",
   "id": "interpreted-appointment",
   "metadata": {},
   "source": [
    "### Within the top 5 most reviewed listings, how do they temporally compare ?"
   ]
  },
  {
   "cell_type": "code",
   "execution_count": null,
   "id": "following-citizenship",
   "metadata": {},
   "outputs": [],
   "source": [
    "from scipy.signal import savgol_filter"
   ]
  },
  {
   "cell_type": "code",
   "execution_count": null,
   "id": "south-withdrawal",
   "metadata": {},
   "outputs": [],
   "source": [
    "def plot_n_individual_reviews(start_date=\"2018-01\", end_date=\"2021-01\", n=2 , data=reviews, smoothed=True):\n",
    "    \"\"\"plots the top n individual reviews between the given time period\"\"\"\n",
    "    \n",
    "    data= reviews.set_index('date')\n",
    "    data['count'] = 1 #needed to count\n",
    "    data_to_plot = data[data['listing_id'].isin(find_top_reviews(n))].groupby(['listing_id', pd.Grouper(freq='M')]).count()\n",
    "\n",
    "    pivoted_data = data_to_plot.pivot_table(index='date', columns='listing_id', values='count', fill_value=0)\n",
    "    title_ = \"Number of Reviews of top %s Listings\" %n\n",
    "    \n",
    "    if smoothed:\n",
    "        for col in pivoted_data.columns.to_list():\n",
    "            pivoted_data[col] = savgol_filter(pivoted_data[col],11,3)\n",
    "\n",
    "        pivoted_data[pivoted_data < 0]=0\n",
    "    \n",
    "    pivoted_data.plot(title=title_, ylabel=\"number of reviews\")"
   ]
  },
  {
   "cell_type": "code",
   "execution_count": null,
   "id": "understood-effect",
   "metadata": {},
   "outputs": [],
   "source": [
    "plot_n_individual_reviews(n=5)"
   ]
  },
  {
   "cell_type": "code",
   "execution_count": null,
   "id": "native-marine",
   "metadata": {},
   "outputs": [],
   "source": [
    "plot_n_individual_reviews(n=5, smoothed=False)"
   ]
  },
  {
   "cell_type": "markdown",
   "id": "adapted-jaguar",
   "metadata": {
    "id": "97zhqbYajjKI"
   },
   "source": [
    "# Calendar"
   ]
  },
  {
   "cell_type": "code",
   "execution_count": null,
   "id": "behavioral-zealand",
   "metadata": {
    "id": "K9M8xI54jkWp"
   },
   "outputs": [],
   "source": []
  }
 ],
 "metadata": {
  "colab": {
   "name": "eda.ipynb",
   "provenance": []
  },
  "kernelspec": {
   "display_name": "Datascience",
   "language": "python",
   "name": "datascience"
  },
  "language_info": {
   "codemirror_mode": {
    "name": "ipython",
    "version": 3
   },
   "file_extension": ".py",
   "mimetype": "text/x-python",
   "name": "python",
   "nbconvert_exporter": "python",
   "pygments_lexer": "ipython3",
   "version": "3.8.5"
  }
 },
 "nbformat": 4,
 "nbformat_minor": 5
}
