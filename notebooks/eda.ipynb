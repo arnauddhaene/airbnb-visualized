{
 "cells": [
  {
   "cell_type": "code",
   "execution_count": null,
   "metadata": {},
   "outputs": [],
   "source": [
    "#to enable autocomplete\n",
    "%config Completer.use_jedi = False"
   ]
  },
  {
   "cell_type": "markdown",
   "metadata": {
    "id": "TaQFCfhxjTk3"
   },
   "source": [
    "**Reminder: TODO every time you want to  commit changes**\n",
    "\n",
    "Go to `Edit > Clear all outputs` to clear all Notebook outputs before committing changes to the repository.\n",
    "\n",
    "# Import necessary libraries"
   ]
  },
  {
   "cell_type": "code",
   "execution_count": null,
   "metadata": {
    "id": "deluxe-right"
   },
   "outputs": [],
   "source": [
    "import numpy as np\n",
    "import pandas as pd"
   ]
  },
  {
   "cell_type": "code",
   "execution_count": null,
   "metadata": {
    "id": "natural-walker"
   },
   "outputs": [],
   "source": [
    "import re\n",
    "import json"
   ]
  },
  {
   "cell_type": "code",
   "execution_count": null,
   "metadata": {
    "id": "divine-accreditation"
   },
   "outputs": [],
   "source": [
    "import matplotlib.pyplot as plt\n",
    "import matplotlib as mpl\n",
    "import seaborn as sns"
   ]
  },
  {
   "cell_type": "code",
   "execution_count": null,
   "metadata": {
    "id": "trained-reflection"
   },
   "outputs": [],
   "source": [
    "%matplotlib inline\n",
    "\n",
    "plt.style.use('seaborn')\n",
    "\n",
    "mpl.rcParams['figure.dpi'] = 100\n",
    "mpl.rcParams['figure.figsize'] = [15, 10]\n",
    "mpl.rcParams['axes.titlesize'] = 24\n",
    "mpl.rcParams['axes.labelsize'] = 20\n",
    "mpl.rcParams['lines.linewidth'] = 2\n",
    "mpl.rcParams['lines.markersize'] = 2\n",
    "mpl.rcParams['xtick.labelsize'] = 16\n",
    "mpl.rcParams['ytick.labelsize'] = 16"
   ]
  },
  {
   "cell_type": "markdown",
   "metadata": {
    "id": "yIW1KFCnjbmL"
   },
   "source": [
    "# Listings\n",
    "\n",
    "EDA for the `listings` data."
   ]
  },
  {
   "cell_type": "markdown",
   "metadata": {
    "id": "scenic-shelter"
   },
   "source": [
    "## Loading the data"
   ]
  },
  {
   "cell_type": "code",
   "execution_count": null,
   "metadata": {
    "id": "single-party"
   },
   "outputs": [],
   "source": [
    "# Alternatively, if you are not running the Notebook in Google Colab\n",
    "\n",
    "#from google.colab import drive \n",
    "#drive.mount('/content/drive/')\n",
    "#listings = pd.read_csv('drive/MyDrive/com-480-cam/data/vaud/listings-detailed.csv')\n",
    "\n",
    "listings = pd.read_csv('../data/vaud/listings-detailed.csv')"
   ]
  },
  {
   "cell_type": "code",
   "execution_count": null,
   "metadata": {
    "id": "embedded-steering"
   },
   "outputs": [],
   "source": [
    "print(listings.columns)"
   ]
  },
  {
   "cell_type": "markdown",
   "metadata": {
    "id": "median-kingdom"
   },
   "source": [
    "### Some routine formatting"
   ]
  },
  {
   "cell_type": "code",
   "execution_count": null,
   "metadata": {
    "id": "disturbed-directive"
   },
   "outputs": [],
   "source": [
    "# Convert dates and datetimes to pandas.DateTime\n",
    "def format_dates(df: pd.DataFrame, feature: str, format: str = '%Y-%m-%d'):\n",
    "    df[feature] = pd.to_datetime(df[feature], format=format)\n",
    "    \n",
    "# Format price by removing commas and dollar sign\n",
    "def format_price(price: str):\n",
    "    return float(price[1:].replace(',', ''))\n",
    "\n",
    "def find_type(property_type: str):\n",
    "    \n",
    "    if 'entire' in property_type.lower():\n",
    "        return 'place'\n",
    "    \n",
    "    if 'room' in property_type.lower():\n",
    "        return 'room'\n",
    "    \n",
    "    return 'other'"
   ]
  },
  {
   "cell_type": "code",
   "execution_count": null,
   "metadata": {
    "id": "aggressive-logistics"
   },
   "outputs": [],
   "source": [
    "dated_features = ['last_scraped', 'host_since', 'calendar_last_scraped', \n",
    "                  'first_review', 'last_review']\n",
    "\n",
    "timestamped_features = ['scrape_id']\n",
    "\n",
    "for feature in dated_features:\n",
    "    format_dates(listings, feature)\n",
    "    \n",
    "for feature in timestamped_features:\n",
    "    format_dates(listings, feature, format='%Y%m%d%H%M%S')\n",
    "    \n",
    "listings['price'] = listings.price.apply(format_price)\n",
    "listings['amenities_count'] = listings.amenities.apply(lambda a: len(a))\n",
    "listings['type'] = listings.property_type.apply(find_type)"
   ]
  },
  {
   "cell_type": "markdown",
   "metadata": {
    "id": "eC7g1_87kgK8"
   },
   "source": [
    "## Visualizations"
   ]
  },
  {
   "cell_type": "markdown",
   "metadata": {
    "id": "aquatic-rubber"
   },
   "source": [
    "### Pair plot of some variables of interest"
   ]
  },
  {
   "cell_type": "code",
   "execution_count": null,
   "metadata": {
    "id": "intermediate-grain"
   },
   "outputs": [],
   "source": [
    "sns.pairplot(listings[['price', 'beds', 'amenities_count', 'availability_90', 'review_scores_rating']])\n",
    "\n",
    "plt.show()"
   ]
  },
  {
   "cell_type": "markdown",
   "metadata": {
    "id": "combined-winter"
   },
   "source": [
    "### What's the most common property type?"
   ]
  },
  {
   "cell_type": "code",
   "execution_count": null,
   "metadata": {
    "id": "integrated-collins"
   },
   "outputs": [],
   "source": [
    "h = sns.histplot(listings[listings.property_type.isin(listings['property_type'].value_counts().keys()[:10])], x='property_type')\n",
    "\n",
    "plt.xticks(rotation=90)\n",
    "plt.show()"
   ]
  },
  {
   "cell_type": "code",
   "execution_count": null,
   "metadata": {
    "id": "focal-neighborhood"
   },
   "outputs": [],
   "source": [
    "sns.displot(listings[listings.beds < 25], x=\"beds\", y=\"accommodates\")\n",
    "\n",
    "plt.show()"
   ]
  },
  {
   "cell_type": "markdown",
   "metadata": {
    "id": "adaptive-sender"
   },
   "source": [
    "### How does price distribution vary between entire places and private rooms?"
   ]
  },
  {
   "cell_type": "code",
   "execution_count": null,
   "metadata": {
    "id": "exposed-shame"
   },
   "outputs": [],
   "source": [
    "sns.displot(listings[(listings.price < 600) & (listings.beds < 10) & (listings.type.isin(['place', 'room']))], x=\"price\", y=\"beds\", hue=\"type\", kind=\"kde\", fill=False, common_norm=False)\n",
    "\n",
    "plt.show()"
   ]
  },
  {
   "cell_type": "code",
   "execution_count": null,
   "metadata": {
    "id": "promising-ecology"
   },
   "outputs": [],
   "source": [
    "f, a = plt.subplots(2, 3)\n",
    "    \n",
    "sns.histplot(listings, x='review_scores_value',         ax=a[0, 0])\n",
    "sns.histplot(listings, x='review_scores_accuracy',      ax=a[0, 1])\n",
    "sns.histplot(listings, x='review_scores_cleanliness',   ax=a[0, 2])\n",
    "sns.histplot(listings, x='review_scores_checkin',       ax=a[1, 0])\n",
    "sns.histplot(listings, x='review_scores_communication', ax=a[1, 1])\n",
    "sns.histplot(listings, x='review_scores_location',      ax=a[1, 2])\n",
    "\n",
    "plt.show()"
   ]
  },
  {
   "cell_type": "code",
   "execution_count": null,
   "metadata": {
    "id": "present-subject"
   },
   "outputs": [],
   "source": [
    "g = sns.PairGrid(listings[['review_scores_accuracy',\n",
    "       'review_scores_cleanliness', 'review_scores_checkin',\n",
    "       'review_scores_communication', 'review_scores_location',\n",
    "       'review_scores_value']],  diag_sharey=False)\n",
    "\n",
    "g.map_upper(sns.scatterplot)\n",
    "g.map_lower(sns.kdeplot)\n",
    "g.map_diag(sns.kdeplot)\n",
    "\n",
    "plt.show()"
   ]
  },
  {
   "cell_type": "code",
   "execution_count": null,
   "metadata": {
    "id": "scenic-confidence"
   },
   "outputs": [],
   "source": []
  },
  {
   "cell_type": "markdown",
   "metadata": {
    "id": "BykrnWozjhWY"
   },
   "source": [
    "# Reviews"
   ]
  },
  {
   "cell_type": "code",
   "execution_count": null,
   "metadata": {
    "id": "EwxPfExujiip"
   },
   "outputs": [],
   "source": [
    "reviews = pd.read_csv('../data/vaud/reviews.csv')"
   ]
  },
  {
   "cell_type": "code",
   "execution_count": null,
   "metadata": {},
   "outputs": [],
   "source": [
    "reviews['date'] = pd.to_datetime(reviews['date'], format='%Y-%m-%d')"
   ]
  },
  {
   "cell_type": "code",
   "execution_count": null,
   "metadata": {},
   "outputs": [],
   "source": [
    "reviews.sample(10)"
   ]
  },
  {
   "cell_type": "code",
   "execution_count": null,
   "metadata": {},
   "outputs": [],
   "source": [
    "def find_top_reviews(n=10, data=reviews):\n",
    "    \"\"\"return list of n ids containing the most amount of reviews\"\"\"\n",
    "    return data.listing_id.value_counts()[0:n].index.tolist()"
   ]
  },
  {
   "cell_type": "code",
   "execution_count": null,
   "metadata": {},
   "outputs": [],
   "source": [
    "def plot_timeperiod_reviews(start_date=\"2018-01\", end_date=\"2021-01\", n=1 , data=reviews):\n",
    "    \"\"\"plot the n average count reviews over the timeperiod\"\"\"\n",
    "    data = data.set_index('date')\n",
    "    data_to_plot = data[data['listing_id'].isin(find_top_reviews(n))].groupby(pd.Grouper(freq='M')).count()\n",
    "    data_to_plot = data_to_plot.fillna(0)\n",
    "    \n",
    "    \n",
    "    title_ = \"Number of Reviews for the top %s Listings\" %n\n",
    "    data_to_plot[start_date:end_date].plot(title=title_, ylabel=\"number of reviews\")\n",
    "    "
   ]
  },
  {
   "cell_type": "markdown",
   "metadata": {},
   "source": [
    "## how does the general trend of Reviews compare over a period of time ?"
   ]
  },
  {
   "cell_type": "code",
   "execution_count": null,
   "metadata": {},
   "outputs": [],
   "source": [
    "plot_timeperiod_reviews(start_date=\"2015-01\", end_date='2021-01', n=40)"
   ]
  },
  {
   "cell_type": "code",
   "execution_count": null,
   "metadata": {},
   "outputs": [],
   "source": [
    "plot_timeperiod_reviews(start_date=\"2017-01\", end_date='2020-01', n=30)"
   ]
  },
  {
   "cell_type": "markdown",
   "metadata": {},
   "source": [
    "## Within the top 5 most reviewed listings, how do they temporally compare ? "
   ]
  },
  {
   "cell_type": "code",
   "execution_count": null,
   "metadata": {},
   "outputs": [],
   "source": [
    "from scipy.signal import savgol_filter"
   ]
  },
  {
   "cell_type": "code",
   "execution_count": null,
   "metadata": {},
   "outputs": [],
   "source": [
    "def plot_n_individual_reviews(start_date=\"2018-01\", end_date=\"2021-01\", n=2 , data=reviews, smoothed=True):\n",
    "    \"\"\"plots the top n individual reviews between the given time period\"\"\"\n",
    "    \n",
    "    data= reviews.set_index('date')\n",
    "    data['count'] = 1 #needed to count\n",
    "    data_to_plot = data[data['listing_id'].isin(find_top_reviews(n))].groupby(['listing_id', pd.Grouper(freq='M')]).count()\n",
    "\n",
    "    pivoted_data = data_to_plot.pivot_table(index='date', columns='listing_id', values='count', fill_value=0)\n",
    "    title_ = \"Number of Reviews of top %s Listings\" %n\n",
    "    \n",
    "    if smoothed:\n",
    "        for col in pivoted_data.columns.to_list():\n",
    "            pivoted_data[col] = savgol_filter(pivoted_data[col],11,3)\n",
    "\n",
    "        pivoted_data[pivoted_data < 0]=0\n",
    "    \n",
    "    pivoted_data.plot(title=title_, ylabel=\"number of reviews\")\n",
    "        "
   ]
  },
  {
   "cell_type": "code",
   "execution_count": null,
   "metadata": {},
   "outputs": [],
   "source": [
    "plot_n_individual_reviews(n=5)"
   ]
  },
  {
   "cell_type": "code",
   "execution_count": null,
   "metadata": {},
   "outputs": [],
   "source": [
    "plot_n_individual_reviews(n=5,smoothed=False)"
   ]
  },
  {
   "cell_type": "markdown",
   "metadata": {
    "id": "97zhqbYajjKI"
   },
   "source": [
    "# Calendar"
   ]
  },
  {
   "cell_type": "code",
   "execution_count": null,
   "metadata": {
    "id": "K9M8xI54jkWp"
   },
   "outputs": [],
   "source": []
  }
 ],
 "metadata": {
  "colab": {
   "name": "eda.ipynb",
   "provenance": []
  },
  "kernelspec": {
   "display_name": "Python 3",
   "language": "python",
   "name": "python3"
  },
  "language_info": {
   "codemirror_mode": {
    "name": "ipython",
    "version": 3
   },
   "file_extension": ".py",
   "mimetype": "text/x-python",
   "name": "python",
   "nbconvert_exporter": "python",
   "pygments_lexer": "ipython3",
   "version": "3.8.5"
  }
 },
 "nbformat": 4,
 "nbformat_minor": 5
}
