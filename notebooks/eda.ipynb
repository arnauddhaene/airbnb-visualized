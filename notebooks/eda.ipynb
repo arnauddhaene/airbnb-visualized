{
  "nbformat": 4,
  "nbformat_minor": 5,
  "metadata": {
    "kernelspec": {
      "display_name": "Datascience",
      "language": "python",
      "name": "datascience"
    },
    "language_info": {
      "codemirror_mode": {
        "name": "ipython",
        "version": 3
      },
      "file_extension": ".py",
      "mimetype": "text/x-python",
      "name": "python",
      "nbconvert_exporter": "python",
      "pygments_lexer": "ipython3",
      "version": "3.8.5"
    },
    "colab": {
      "name": "eda.ipynb",
      "provenance": []
    }
  },
  "cells": [
    {
      "cell_type": "markdown",
      "metadata": {
        "id": "TaQFCfhxjTk3"
      },
      "source": [
        "**Reminder: TODO every time you want to  commit changes**\n",
        "\n",
        "Go to `Edit > Clear all outputs` to clear all Notebook outputs before committing changes to the repository.\n",
        "\n",
        "# Import necessary libraries"
      ],
      "id": "TaQFCfhxjTk3"
    },
    {
      "cell_type": "code",
      "metadata": {
        "id": "deluxe-right"
      },
      "source": [
        "import numpy as np\n",
        "import pandas as pd"
      ],
      "id": "deluxe-right",
      "execution_count": null,
      "outputs": []
    },
    {
      "cell_type": "code",
      "metadata": {
        "id": "natural-walker"
      },
      "source": [
        "import re\n",
        "import json"
      ],
      "id": "natural-walker",
      "execution_count": null,
      "outputs": []
    },
    {
      "cell_type": "code",
      "metadata": {
        "id": "divine-accreditation"
      },
      "source": [
        "import matplotlib.pyplot as plt\n",
        "import matplotlib as mpl\n",
        "import seaborn as sns"
      ],
      "id": "divine-accreditation",
      "execution_count": null,
      "outputs": []
    },
    {
      "cell_type": "code",
      "metadata": {
        "id": "trained-reflection"
      },
      "source": [
        "%matplotlib inline\n",
        "\n",
        "plt.style.use('seaborn')\n",
        "\n",
        "mpl.rcParams['figure.dpi'] = 100\n",
        "mpl.rcParams['figure.figsize'] = [15, 10]\n",
        "mpl.rcParams['axes.titlesize'] = 24\n",
        "mpl.rcParams['axes.labelsize'] = 20\n",
        "mpl.rcParams['lines.linewidth'] = 2\n",
        "mpl.rcParams['lines.markersize'] = 2\n",
        "mpl.rcParams['xtick.labelsize'] = 16\n",
        "mpl.rcParams['ytick.labelsize'] = 16"
      ],
      "id": "trained-reflection",
      "execution_count": null,
      "outputs": []
    },
    {
      "cell_type": "markdown",
      "metadata": {
        "id": "yIW1KFCnjbmL"
      },
      "source": [
        "# Listings\n",
        "\n",
        "EDA for the `listings` data."
      ],
      "id": "yIW1KFCnjbmL"
    },
    {
      "cell_type": "markdown",
      "metadata": {
        "id": "scenic-shelter"
      },
      "source": [
        "## Loading the data"
      ],
      "id": "scenic-shelter"
    },
    {
      "cell_type": "code",
      "metadata": {
        "id": "single-party"
      },
      "source": [
        "# Alternatively, if you are not running the Notebook in Google Colab\n",
        "\n",
        "# from google.colab import drive \n",
        "# drive.mount('/content/drive/')\n",
        "# listings = pd.read_csv('drive/MyDrive/com-480-cam/data/vaud/listings-detailed.csv')\n",
        "\n",
        "listings = pd.read_csv('../data/vaud/listings-detailed.csv')"
      ],
      "id": "single-party",
      "execution_count": null,
      "outputs": []
    },
    {
      "cell_type": "code",
      "metadata": {
        "id": "embedded-steering"
      },
      "source": [
        "print(listings.columns)"
      ],
      "id": "embedded-steering",
      "execution_count": null,
      "outputs": []
    },
    {
      "cell_type": "markdown",
      "metadata": {
        "id": "median-kingdom"
      },
      "source": [
        "### Some routine formatting"
      ],
      "id": "median-kingdom"
    },
    {
      "cell_type": "code",
      "metadata": {
        "id": "disturbed-directive"
      },
      "source": [
        "# Convert dates and datetimes to pandas.DateTime\n",
        "def format_dates(df: pd.DataFrame, feature: str, format: str = '%Y-%m-%d'):\n",
        "    df[feature] = pd.to_datetime(df[feature], format=format)\n",
        "    \n",
        "# Format price by removing commas and dollar sign\n",
        "def format_price(price: str):\n",
        "    return float(price[1:].replace(',', ''))\n",
        "\n",
        "def find_type(property_type: str):\n",
        "    \n",
        "    if 'entire' in property_type.lower():\n",
        "        return 'place'\n",
        "    \n",
        "    if 'room' in property_type.lower():\n",
        "        return 'room'\n",
        "    \n",
        "    return 'other'"
      ],
      "id": "disturbed-directive",
      "execution_count": null,
      "outputs": []
    },
    {
      "cell_type": "code",
      "metadata": {
        "id": "aggressive-logistics"
      },
      "source": [
        "dated_features = ['last_scraped', 'host_since', 'calendar_last_scraped', \n",
        "                  'first_review', 'last_review']\n",
        "\n",
        "timestamped_features = ['scrape_id']\n",
        "\n",
        "for feature in dated_features:\n",
        "    format_dates(listings, feature)\n",
        "    \n",
        "for feature in timestamped_features:\n",
        "    format_dates(listings, feature, format='%Y%m%d%H%M%S')\n",
        "    \n",
        "listings['price'] = listings.price.apply(format_price)\n",
        "listings['amenities_count'] = listings.amenities.apply(lambda a: len(a))\n",
        "listings['type'] = listings.property_type.apply(find_type)"
      ],
      "id": "aggressive-logistics",
      "execution_count": null,
      "outputs": []
    },
    {
      "cell_type": "markdown",
      "metadata": {
        "id": "eC7g1_87kgK8"
      },
      "source": [
        "## Visualizations"
      ],
      "id": "eC7g1_87kgK8"
    },
    {
      "cell_type": "markdown",
      "metadata": {
        "id": "aquatic-rubber"
      },
      "source": [
        "### Pair plot of some variables of interest"
      ],
      "id": "aquatic-rubber"
    },
    {
      "cell_type": "code",
      "metadata": {
        "id": "intermediate-grain"
      },
      "source": [
        "sns.pairplot(listings[['price', 'beds', 'amenities_count', 'availability_90', 'review_scores_rating']])\n",
        "\n",
        "plt.show()"
      ],
      "id": "intermediate-grain",
      "execution_count": null,
      "outputs": []
    },
    {
      "cell_type": "markdown",
      "metadata": {
        "id": "combined-winter"
      },
      "source": [
        "### What's the most common property type?"
      ],
      "id": "combined-winter"
    },
    {
      "cell_type": "code",
      "metadata": {
        "id": "integrated-collins"
      },
      "source": [
        "h = sns.histplot(listings[listings.property_type.isin(listings['property_type'].value_counts().keys()[:10])], x='property_type')\n",
        "\n",
        "plt.xticks(rotation=90)\n",
        "plt.show()"
      ],
      "id": "integrated-collins",
      "execution_count": null,
      "outputs": []
    },
    {
      "cell_type": "code",
      "metadata": {
        "id": "focal-neighborhood"
      },
      "source": [
        "sns.displot(listings[listings.beds < 25], x=\"beds\", y=\"accommodates\")\n",
        "\n",
        "plt.show()"
      ],
      "id": "focal-neighborhood",
      "execution_count": null,
      "outputs": []
    },
    {
      "cell_type": "markdown",
      "metadata": {
        "id": "adaptive-sender"
      },
      "source": [
        "### How does price distribution vary between entire places and private rooms?"
      ],
      "id": "adaptive-sender"
    },
    {
      "cell_type": "code",
      "metadata": {
        "id": "exposed-shame"
      },
      "source": [
        "sns.displot(listings[(listings.price < 600) & (listings.beds < 10) & (listings.type.isin(['place', 'room']))], x=\"price\", y=\"beds\", hue=\"type\", kind=\"kde\", fill=False, common_norm=False)\n",
        "\n",
        "plt.show()"
      ],
      "id": "exposed-shame",
      "execution_count": null,
      "outputs": []
    },
    {
      "cell_type": "code",
      "metadata": {
        "id": "promising-ecology"
      },
      "source": [
        "f, a = plt.subplots(2, 3)\n",
        "    \n",
        "sns.histplot(listings, x='review_scores_value',         ax=a[0, 0])\n",
        "sns.histplot(listings, x='review_scores_accuracy',      ax=a[0, 1])\n",
        "sns.histplot(listings, x='review_scores_cleanliness',   ax=a[0, 2])\n",
        "sns.histplot(listings, x='review_scores_checkin',       ax=a[1, 0])\n",
        "sns.histplot(listings, x='review_scores_communication', ax=a[1, 1])\n",
        "sns.histplot(listings, x='review_scores_location',      ax=a[1, 2])\n",
        "\n",
        "plt.show()"
      ],
      "id": "promising-ecology",
      "execution_count": null,
      "outputs": []
    },
    {
      "cell_type": "code",
      "metadata": {
        "id": "present-subject"
      },
      "source": [
        "g = sns.PairGrid(listings[['review_scores_accuracy',\n",
        "       'review_scores_cleanliness', 'review_scores_checkin',\n",
        "       'review_scores_communication', 'review_scores_location',\n",
        "       'review_scores_value']],  diag_sharey=False)\n",
        "\n",
        "g.map_upper(sns.scatterplot)\n",
        "g.map_lower(sns.kdeplot)\n",
        "g.map_diag(sns.kdeplot)\n",
        "\n",
        "plt.show()"
      ],
      "id": "present-subject",
      "execution_count": null,
      "outputs": []
    },
    {
      "cell_type": "code",
      "metadata": {
        "id": "scenic-confidence"
      },
      "source": [
        ""
      ],
      "id": "scenic-confidence",
      "execution_count": null,
      "outputs": []
    },
    {
      "cell_type": "markdown",
      "metadata": {
        "id": "BykrnWozjhWY"
      },
      "source": [
        "# Reviews"
      ],
      "id": "BykrnWozjhWY"
    },
    {
      "cell_type": "code",
      "metadata": {
        "id": "EwxPfExujiip"
      },
      "source": [
        ""
      ],
      "id": "EwxPfExujiip",
      "execution_count": null,
      "outputs": []
    },
    {
      "cell_type": "markdown",
      "metadata": {
        "id": "97zhqbYajjKI"
      },
      "source": [
        "# Calendar"
      ],
      "id": "97zhqbYajjKI"
    },
    {
      "cell_type": "code",
      "metadata": {
        "id": "K9M8xI54jkWp"
      },
      "source": [
        ""
      ],
      "id": "K9M8xI54jkWp",
      "execution_count": null,
      "outputs": []
    }
  ]
}